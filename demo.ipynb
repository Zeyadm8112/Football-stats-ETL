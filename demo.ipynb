{
 "cells": [
  {
   "cell_type": "markdown",
   "metadata": {},
   "source": [
    "# Extract Logic"
   ]
  },
  {
   "cell_type": "markdown",
   "metadata": {},
   "source": [
    "##### this file is demo file for prototyping python functions"
   ]
  },
  {
   "cell_type": "code",
   "execution_count": null,
   "metadata": {},
   "outputs": [],
   "source": [
    "import json\n",
    "import requests\n",
    "import random\n",
    "api_key = '3a3bd8764d180fafd01e23bafc751a09'\n",
    "base_url= 'https://v3.football.api-sports.io/'\n",
    "\n"
   ]
  },
  {
   "cell_type": "code",
   "execution_count": null,
   "metadata": {},
   "outputs": [],
   "source": [
    "def fetch_fixtures():\n",
    "\n",
    "\n",
    "    endpoint = \"/fixtures\"\n",
    "    url =f\"{base_url+endpoint}\"\n",
    "    querystring = {\"date\":\"2025-06-08\"}\n",
    "\n",
    "    headers = {'x-rapidapi-host': 'v3.football.api-sports.io',\n",
    "                 \"x-rapidapi-key\":api_key\n",
    "               }\n",
    "\n",
    "    response = requests.get(url, headers=headers, params=querystring)\n",
    "    print(response.status_code)\n",
    "    print(json.dumps(response.json(), ensure_ascii=False, indent=2))\n",
    "    \n",
    "    return   response.json()[\"response\"]\n"
   ]
  },
  {
   "cell_type": "code",
   "execution_count": null,
   "metadata": {},
   "outputs": [],
   "source": [
    "fixtures=fetch_fixtures()"
   ]
  },
  {
   "cell_type": "code",
   "execution_count": null,
   "metadata": {},
   "outputs": [],
   "source": [
    "limited_fixtures = random.sample(fixtures, 100)  # pick 100 unique random fixtures\n",
    "#len(fixtures)"
   ]
  },
  {
   "cell_type": "code",
   "execution_count": null,
   "metadata": {},
   "outputs": [],
   "source": []
  },
  {
   "cell_type": "code",
   "execution_count": null,
   "metadata": {},
   "outputs": [],
   "source": [
    "def  extract_teams_id(fixtures):\n",
    "    teams_ids=set()\n",
    "    metadata=[]\n",
    "    \n",
    "    for fixture in fixtures:\n",
    "        home_team = fixture[\"teams\"][\"home\"][\"id\"]\n",
    "        away_team = fixture[\"teams\"][\"away\"][\"id\"]\n",
    "        league_id = fixture[\"league\"][\"id\"]\n",
    "        season = fixture[\"league\"][\"season\"]\n",
    "\n",
    "        teams_ids.update([home_team, away_team])\n",
    "\n",
    "        metadata.append({\n",
    "            \"home_team\": home_team,\n",
    "            \"away_team\": away_team,\n",
    "            \"league_id\": league_id,\n",
    "            \"season\": season\n",
    "        })\n",
    "        # print(list(teams_ids))\n",
    "\n",
    "    return list(teams_ids), metadata \n",
    "    \n",
    "\n"
   ]
  },
  {
   "cell_type": "code",
   "execution_count": null,
   "metadata": {},
   "outputs": [],
   "source": [
    "teams_IDs,metadata=extract_teams_id(limited_fixtures)"
   ]
  },
  {
   "cell_type": "code",
   "execution_count": null,
   "metadata": {},
   "outputs": [],
   "source": [
    "print(len(teams_IDs))\n",
    "print(len(limited_fixtures))\n",
    "print(len(metadata))"
   ]
  },
  {
   "cell_type": "code",
   "execution_count": null,
   "metadata": {},
   "outputs": [],
   "source": [
    "print(teams_IDs[:10])"
   ]
  },
  {
   "cell_type": "markdown",
   "metadata": {},
   "source": [
    "#### **build team requests**"
   ]
  },
  {
   "cell_type": "code",
   "execution_count": null,
   "metadata": {},
   "outputs": [],
   "source": [
    "def build_team_requests(teams, metadata):\n",
    "    team_requests = set()\n",
    "\n",
    "    for match in metadata:\n",
    "        for team_id in [match[\"home_team\"], match[\"away_team\"]]:\n",
    "            if team_id in teams:\n",
    "                team_requests.add((\n",
    "                    team_id,\n",
    "                    match[\"league_id\"],\n",
    "                    match[\"season\"]\n",
    "                ))\n",
    "\n",
    "    return list(team_requests)"
   ]
  },
  {
   "cell_type": "code",
   "execution_count": null,
   "metadata": {},
   "outputs": [],
   "source": [
    "team_requests=build_team_requests(teams_IDs,metadata)"
   ]
  },
  {
   "cell_type": "code",
   "execution_count": null,
   "metadata": {},
   "outputs": [],
   "source": [
    "print(len(team_requests))"
   ]
  },
  {
   "cell_type": "code",
   "execution_count": null,
   "metadata": {},
   "outputs": [],
   "source": [
    "def fetch_team_info(team_id):\n",
    "    endpoint = \"/teams\"\n",
    "    url =f\"{base_url+endpoint}\"\n",
    "    headers = {'x-rapidapi-host': 'v3.football.api-sports.io',\n",
    "                 \"x-rapidapi-key\":api_key\n",
    "               }\n",
    "\n",
    "    querystring = {\"id\":team_id}\n",
    "\n",
    "    response = requests.get(url, headers=headers, params=querystring)\n",
    "    if response.status_code == 200:\n",
    "        return response.json()\n",
    "    else:\n",
    "        print(f\"Failed for team {team_id}\")\n",
    "        return None"
   ]
  },
  {
   "cell_type": "code",
   "execution_count": null,
   "metadata": {},
   "outputs": [],
   "source": [
    "import time\n",
    "\n",
    "def extract_team_info_from_fixtures(team_requests):\n",
    "    all_team_stats = []\n",
    "\n",
    "    for team_id in team_requests:\n",
    "        info = fetch_team_info(team_id)\n",
    "        if info:\n",
    "            all_team_stats.append(info)\n",
    "\n",
    "        time.sleep(6)  # ⏱️ Wait 6 seconds to respect 10 reqs/minute\n",
    "\n",
    "    return all_team_stats\n"
   ]
  },
  {
   "cell_type": "code",
   "execution_count": null,
   "metadata": {},
   "outputs": [],
   "source": [
    "team_info = extract_team_info_from_fixtures(teams_IDs)"
   ]
  },
  {
   "cell_type": "code",
   "execution_count": null,
   "metadata": {},
   "outputs": [],
   "source": [
    "print(len(team_info))\n",
    "team_info[:10]"
   ]
  },
  {
   "cell_type": "markdown",
   "metadata": {},
   "source": [
    "---"
   ]
  },
  {
   "cell_type": "markdown",
   "metadata": {},
   "source": [
    "# Transfer Logic"
   ]
  },
  {
   "cell_type": "markdown",
   "metadata": {},
   "source": [
    "### Matches Transfom"
   ]
  },
  {
   "cell_type": "code",
   "execution_count": null,
   "metadata": {},
   "outputs": [],
   "source": [
    "import pandas as pd"
   ]
  },
  {
   "cell_type": "code",
   "execution_count": null,
   "metadata": {},
   "outputs": [],
   "source": [
    "\n",
    "match_data = []\n",
    "for f in fixtures:\n",
    "    match_data.append({\n",
    "        'match_id': f['fixture']['id'],\n",
    "        'date': f['fixture']['date'],\n",
    "        'match_status':f['fixture']['status']['short'],\n",
    "        'home_team_id': f['teams']['home']['id'],\n",
    "        'away_team_id': f['teams']['away']['id'],\n",
    "        'home_team_score':f['score']['fulltime']['home'],\n",
    "        'away_team_score':f['score']['fulltime']['away'],\n",
    "        'venue': f['fixture']['venue']['name'],\n",
    "        'league_id': f['league']['id'],\n",
    "        'league':f['league']['name'],\n",
    "        'country':f['league']['country'],\n",
    "        'season': f['league']['season']\n",
    "    })\n",
    "match_df = pd.DataFrame(match_data)\n",
    "#df['date'] = pd.to_datetime(df['date'])\n"
   ]
  },
  {
   "cell_type": "code",
   "execution_count": null,
   "metadata": {},
   "outputs": [],
   "source": [
    "# Data Cleansing \n",
    "# \n",
    "#  Null values handling:\n",
    "match_df = match_df.dropna(subset=['match_id'])\n",
    "match_df = match_df.dropna(subset=['home_team_id'])\n",
    "match_df = match_df.dropna(subset=['away_team_id'])\n",
    "match_df.drop(match_df[match_df['match_status']=='CANC'].index,inplace=True)\n",
    "match_df = match_df.dropna(subset=['date'])\n",
    "match_df = match_df.dropna(subset=['season'])\n",
    "match_df = match_df.dropna(subset=['league_id'])\n",
    "\n",
    "#changing the time format\n",
    "match_df['date'] =pd.to_datetime(match_df['date'])\n",
    "\n",
    "\n",
    "match_df['country']=match_df['country'].fillna('Unknown')\n",
    "match_df['match_status']=match_df['match_status'].fillna('Unknown')\n",
    "match_df['home_team_score']=match_df['home_team_score'].fillna(0)\n",
    "match_df['away_team_score']=match_df['away_team_score'].fillna(0)\n",
    "match_df['venue']=match_df['venue'].fillna('Unknown')\n",
    "\n",
    "\n",
    "#-------------------------------------------------------\n",
    "match_df['venue']=match_df['venue'].astype('string')\n",
    "match_df['country']=match_df['country'].astype('string')\n",
    "match_df['league']=match_df['league'].astype('string')\n",
    "match_df['match_status']=match_df['match_status'].astype('string')\n",
    "match_df['home_team_score']=match_df['home_team_score'].astype('int')\n",
    "match_df['away_team_score']=match_df['away_team_score'].astype('int')\n",
    "match_df['away_team_score']=match_df['away_team_score'].astype('int')"
   ]
  },
  {
   "cell_type": "code",
   "execution_count": null,
   "metadata": {},
   "outputs": [],
   "source": [
    "match_df"
   ]
  },
  {
   "cell_type": "code",
   "execution_count": null,
   "metadata": {},
   "outputs": [],
   "source": [
    "match_df.dtypes"
   ]
  },
  {
   "cell_type": "code",
   "execution_count": null,
   "metadata": {},
   "outputs": [],
   "source": [
    "\"\"\" \n",
    "checking null values \n",
    "\"\"\"\n",
    "match_df.isnull().sum()\n"
   ]
  },
  {
   "cell_type": "markdown",
   "metadata": {},
   "source": [
    "### Teams Transfrom"
   ]
  },
  {
   "cell_type": "code",
   "execution_count": 208,
   "metadata": {},
   "outputs": [],
   "source": [
    "\n",
    "# Your JSON string (as shown earlier)\n",
    "json_string = \"\"\"\n",
    "{\n",
    "  \"get\": \"teams\",\n",
    "  \"parameters\": {\n",
    "    \"id\": \"33\"\n",
    "  },\n",
    "  \"errors\": [],\n",
    "  \"results\": 1,\n",
    "  \"paging\": {\n",
    "    \"current\": 1,\n",
    "    \"total\": 1\n",
    "  },\n",
    "  \"response\": [\n",
    "    {\n",
    "      \"team\": {\n",
    "        \"id\": 33,\n",
    "        \"name\": \"Manchester United\",\n",
    "        \"code\": \"MUN\",\n",
    "        \"country\": \"England\",\n",
    "        \"founded\": 1878,\n",
    "        \"national\": false,\n",
    "        \"logo\": \"https://media.api-sports.io/football/teams/33.png\"\n",
    "      },\n",
    "      \"venue\": {\n",
    "        \"id\": 556,\n",
    "        \"name\": \"Old Trafford\",\n",
    "        \"address\": \"Sir Matt Busby Way\",\n",
    "        \"city\": \"Manchester\",\n",
    "        \"capacity\": 76212,\n",
    "        \"surface\": \"grass\",\n",
    "        \"image\": \"https://media.api-sports.io/football/venues/556.png\"\n",
    "      }\n",
    "    }\n",
    "  ]\n",
    "}\n",
    "\"\"\"\n",
    "json_response=json.loads(json_string)"
   ]
  },
  {
   "cell_type": "code",
   "execution_count": 217,
   "metadata": {},
   "outputs": [],
   "source": [
    "team_datas=[{\n",
    "    'team_id':t['team']['id'],\n",
    "    'team_name':t['team']['name'],\n",
    "    'team_code':t['team']['code'],\n",
    "    'country':t['team']['country'],\n",
    "    'city':t['venue']['city'],\n",
    "    'founded':t['team']['founded'],\n",
    "    'venue_id':t['venue']['id'],\n",
    "    'venue_name':t['venue']['name'],\n",
    "\n",
    "    }for t in json_response['response']]"
   ]
  },
  {
   "cell_type": "code",
   "execution_count": 219,
   "metadata": {},
   "outputs": [],
   "source": [
    "team_datas\n",
    "df=pd.DataFrame(team_datas)"
   ]
  },
  {
   "cell_type": "code",
   "execution_count": 220,
   "metadata": {},
   "outputs": [
    {
     "data": {
      "text/html": [
       "<div>\n",
       "<style scoped>\n",
       "    .dataframe tbody tr th:only-of-type {\n",
       "        vertical-align: middle;\n",
       "    }\n",
       "\n",
       "    .dataframe tbody tr th {\n",
       "        vertical-align: top;\n",
       "    }\n",
       "\n",
       "    .dataframe thead th {\n",
       "        text-align: right;\n",
       "    }\n",
       "</style>\n",
       "<table border=\"1\" class=\"dataframe\">\n",
       "  <thead>\n",
       "    <tr style=\"text-align: right;\">\n",
       "      <th></th>\n",
       "      <th>team_id</th>\n",
       "      <th>team_name</th>\n",
       "      <th>team_code</th>\n",
       "      <th>country</th>\n",
       "      <th>city</th>\n",
       "      <th>founded</th>\n",
       "      <th>venue_id</th>\n",
       "      <th>venue_name</th>\n",
       "    </tr>\n",
       "  </thead>\n",
       "  <tbody>\n",
       "    <tr>\n",
       "      <th>0</th>\n",
       "      <td>33</td>\n",
       "      <td>Manchester United</td>\n",
       "      <td>MUN</td>\n",
       "      <td>England</td>\n",
       "      <td>Manchester</td>\n",
       "      <td>1878</td>\n",
       "      <td>556</td>\n",
       "      <td>Old Trafford</td>\n",
       "    </tr>\n",
       "  </tbody>\n",
       "</table>\n",
       "</div>"
      ],
      "text/plain": [
       "   team_id          team_name team_code  country        city  founded  \\\n",
       "0       33  Manchester United       MUN  England  Manchester     1878   \n",
       "\n",
       "   venue_id    venue_name  \n",
       "0       556  Old Trafford  "
      ]
     },
     "execution_count": 220,
     "metadata": {},
     "output_type": "execute_result"
    }
   ],
   "source": [
    "df"
   ]
  },
  {
   "cell_type": "code",
   "execution_count": 222,
   "metadata": {},
   "outputs": [],
   "source": [
    "df.dropna(subset=['team_id','team_name','venue_id'],inplace=True)\n",
    "df.fillna({'team_code':'UNK','country':'Unknown','city':'Uknown','founded':0,'venue_name':'Unkown'},inplace=True)"
   ]
  },
  {
   "cell_type": "code",
   "execution_count": 223,
   "metadata": {},
   "outputs": [
    {
     "data": {
      "text/plain": [
       "team_id        int64\n",
       "team_name     object\n",
       "team_code     object\n",
       "country       object\n",
       "city          object\n",
       "founded        int64\n",
       "venue_id       int64\n",
       "venue_name    object\n",
       "dtype: object"
      ]
     },
     "execution_count": 223,
     "metadata": {},
     "output_type": "execute_result"
    }
   ],
   "source": [
    "df.dtypes"
   ]
  },
  {
   "cell_type": "code",
   "execution_count": null,
   "metadata": {},
   "outputs": [],
   "source": [
    "json_string=\n",
    "\"\"\"\n",
    "{\n",
    "  \"get\": \"players/squads\",\n",
    "  \"parameters\": {\n",
    "    \"team\": \"33\"\n",
    "  },\n",
    "  \"errors\": [],\n",
    "  \"results\": 1,\n",
    "  \"paging\": {\n",
    "    \"current\": 1,\n",
    "    \"total\": 1\n",
    "  },\n",
    "  \"response\": [\n",
    "    {\n",
    "      \"team\": {\n",
    "        \"id\": 33,\n",
    "        \"name\": \"Manchester United\",\n",
    "        \"logo\": \"https://media.api-sports.io/football/teams/33.png\"\n",
    "      },\n",
    "      \"players\": [\n",
    "        {\n",
    "          \"id\": 882,\n",
    "          \"name\": \"David de Gea\",\n",
    "          \"age\": 31,\n",
    "          \"number\": 1,\n",
    "          \"position\": \"Goalkeeper\",\n",
    "          \"photo\": \"https://media.api-sports.io/football/players/882.png\"\n",
    "        },\n",
    "        {\n",
    "          \"id\": 883,\n",
    "          \"name\": \"L. Grant\",\n",
    "          \"age\": 38,\n",
    "          \"number\": 13,\n",
    "          \"position\": \"Goalkeeper\",\n",
    "          \"photo\": \"https://media.api-sports.io/football/players/883.png\"\n",
    "        },\n",
    "        {\n",
    "          \"id\": 2931,\n",
    "          \"name\": \"T. Heaton\",\n",
    "          \"age\": 35,\n",
    "          \"number\": null,\n",
    "          \"position\": \"Goalkeeper\",\n",
    "          \"photo\": \"https://media.api-sports.io/football/players/2931.png\"\n",
    "        },\n",
    "        {\n",
    "          \"id\": 19088,\n",
    "          \"name\": \"D. Henderson\",\n",
    "          \"age\": 24,\n",
    "          \"number\": 26,\n",
    "          \"position\": \"Goalkeeper\",\n",
    "          \"photo\": \"https://media.api-sports.io/football/players/19088.png\"\n",
    "        },\n",
    "        {\n",
    "          \"id\": 885,\n",
    "          \"name\": \"E. Bailly\",\n",
    "          \"age\": 27,\n",
    "          \"number\": 3,\n",
    "          \"position\": \"Defender\",\n",
    "          \"photo\": \"https://media.api-sports.io/football/players/885.png\"\n",
    "        },\n",
    "        {\n",
    "          \"id\": 886,\n",
    "          \"name\": \"Diogo Dalot\",\n",
    "          \"age\": 22,\n",
    "          \"number\": 20,\n",
    "          \"position\": \"Defender\",\n",
    "          \"photo\": \"https://media.api-sports.io/football/players/886.png\"\n",
    "        },\n",
    "        {\n",
    "          \"id\": 153434,\n",
    "          \"name\": \"W. Fish\",\n",
    "          \"age\": 18,\n",
    "          \"number\": 48,\n",
    "          \"position\": \"Defender\",\n",
    "          \"photo\": \"https://media.api-sports.io/football/players/153434.png\"\n",
    "        },\n",
    "        {\n",
    "          \"id\": 888,\n",
    "          \"name\": \"P. Jones\",\n",
    "          \"age\": 29,\n",
    "          \"number\": 4,\n",
    "          \"position\": \"Defender\",\n",
    "          \"photo\": \"https://media.api-sports.io/football/players/888.png\"\n",
    "        },\n",
    "        {\n",
    "          \"id\": 138775,\n",
    "          \"name\": \"E. Laird\",\n",
    "          \"age\": 20,\n",
    "          \"number\": null,\n",
    "          \"position\": \"Defender\",\n",
    "          \"photo\": \"https://media.api-sports.io/football/players/138775.png\"\n",
    "        },\n",
    "        {\n",
    "          \"id\": 2935,\n",
    "          \"name\": \"H. Maguire\",\n",
    "          \"age\": 28,\n",
    "          \"number\": 5,\n",
    "          \"position\": \"Defender\",\n",
    "          \"photo\": \"https://media.api-sports.io/football/players/2935.png\"\n",
    "        },\n",
    "        {\n",
    "          \"id\": 889,\n",
    "          \"name\": \"V. Lindelöf\",\n",
    "          \"age\": 27,\n",
    "          \"number\": 2,\n",
    "          \"position\": \"Defender\",\n",
    "          \"photo\": \"https://media.api-sports.io/football/players/889.png\"\n",
    "        },\n",
    "        {\n",
    "          \"id\": 891,\n",
    "          \"name\": \"L. Shaw\",\n",
    "          \"age\": 26,\n",
    "          \"number\": 23,\n",
    "          \"position\": \"Defender\",\n",
    "          \"photo\": \"https://media.api-sports.io/football/players/891.png\"\n",
    "        },\n",
    "        {\n",
    "          \"id\": 378,\n",
    "          \"name\": \"Alex Telles\",\n",
    "          \"age\": 29,\n",
    "          \"number\": 27,\n",
    "          \"position\": \"Defender\",\n",
    "          \"photo\": \"https://media.api-sports.io/football/players/378.png\"\n",
    "        },\n",
    "        {\n",
    "          \"id\": 19182,\n",
    "          \"name\": \"A. Tuanzebe\",\n",
    "          \"age\": 24,\n",
    "          \"number\": 38,\n",
    "          \"position\": \"Defender\",\n",
    "          \"photo\": \"https://media.api-sports.io/football/players/19182.png\"\n",
    "        },\n",
    "        {\n",
    "          \"id\": 18846,\n",
    "          \"name\": \"A. Wan-Bissaka\",\n",
    "          \"age\": 24,\n",
    "          \"number\": 29,\n",
    "          \"position\": \"Defender\",\n",
    "          \"photo\": \"https://media.api-sports.io/football/players/18846.png\"\n",
    "        },\n",
    "        {\n",
    "          \"id\": 138806,\n",
    "          \"name\": \"B. Williams\",\n",
    "          \"age\": 21,\n",
    "          \"number\": 33,\n",
    "          \"position\": \"Defender\",\n",
    "          \"photo\": \"https://media.api-sports.io/football/players/138806.png\"\n",
    "        },\n",
    "        {\n",
    "          \"id\": 1485,\n",
    "          \"name\": \"Bruno Fernandes\",\n",
    "          \"age\": 27,\n",
    "          \"number\": 18,\n",
    "          \"position\": \"Midfielder\",\n",
    "          \"photo\": \"https://media.api-sports.io/football/players/1485.png\"\n",
    "        },\n",
    "        {\n",
    "          \"id\": 895,\n",
    "          \"name\": \"J. Garner\",\n",
    "          \"age\": 20,\n",
    "          \"number\": null,\n",
    "          \"position\": \"Midfielder\",\n",
    "          \"photo\": \"https://media.api-sports.io/football/players/895.png\"\n",
    "        },\n",
    "        {\n",
    "          \"id\": 899,\n",
    "          \"name\": \"Andreas Pereira\",\n",
    "          \"age\": 25,\n",
    "          \"number\": 15,\n",
    "          \"position\": \"Midfielder\",\n",
    "          \"photo\": \"https://media.api-sports.io/football/players/899.png\"\n",
    "        },\n",
    "        {\n",
    "          \"id\": 900,\n",
    "          \"name\": \"J. Lingard\",\n",
    "          \"age\": 29,\n",
    "          \"number\": 14,\n",
    "          \"position\": \"Midfielder\",\n",
    "          \"photo\": \"https://media.api-sports.io/football/players/900.png\"\n",
    "        },\n",
    "        {\n",
    "          \"id\": 901,\n",
    "          \"name\": \"Mata\",\n",
    "          \"age\": 33,\n",
    "          \"number\": 8,\n",
    "          \"position\": \"Midfielder\",\n",
    "          \"photo\": \"https://media.api-sports.io/football/players/901.png\"\n",
    "        },\n",
    "        {\n",
    "          \"id\": 902,\n",
    "          \"name\": \"N. Matić\",\n",
    "          \"age\": 33,\n",
    "          \"number\": 31,\n",
    "          \"position\": \"Midfielder\",\n",
    "          \"photo\": \"https://media.api-sports.io/football/players/902.png\"\n",
    "        },\n",
    "        {\n",
    "          \"id\": 903,\n",
    "          \"name\": \"S. McTominay\",\n",
    "          \"age\": 25,\n",
    "          \"number\": 39,\n",
    "          \"position\": \"Midfielder\",\n",
    "          \"photo\": \"https://media.api-sports.io/football/players/903.png\"\n",
    "        },\n",
    "        {\n",
    "          \"id\": 180560,\n",
    "          \"name\": \"H. Mejbri\",\n",
    "          \"age\": 18,\n",
    "          \"number\": 46,\n",
    "          \"position\": \"Midfielder\",\n",
    "          \"photo\": \"https://media.api-sports.io/football/players/180560.png\"\n",
    "        },\n",
    "        {\n",
    "          \"id\": 904,\n",
    "          \"name\": \"P. Pogba\",\n",
    "          \"age\": 28,\n",
    "          \"number\": 6,\n",
    "          \"position\": \"Midfielder\",\n",
    "          \"photo\": \"https://media.api-sports.io/football/players/904.png\"\n",
    "        },\n",
    "        {\n",
    "          \"id\": 905,\n",
    "          \"name\": \"Fred\",\n",
    "          \"age\": 28,\n",
    "          \"number\": 17,\n",
    "          \"position\": \"Midfielder\",\n",
    "          \"photo\": \"https://media.api-sports.io/football/players/905.png\"\n",
    "        },\n",
    "        {\n",
    "          \"id\": 163054,\n",
    "          \"name\": \"S. Shoretire\",\n",
    "          \"age\": 17,\n",
    "          \"number\": 74,\n",
    "          \"position\": \"Midfielder\",\n",
    "          \"photo\": \"https://media.api-sports.io/football/players/163054.png\"\n",
    "        },\n",
    "        {\n",
    "          \"id\": 547,\n",
    "          \"name\": \"D. van de Beek\",\n",
    "          \"age\": 24,\n",
    "          \"number\": 34,\n",
    "          \"position\": \"Midfielder\",\n",
    "          \"photo\": \"https://media.api-sports.io/football/players/547.png\"\n",
    "        },\n",
    "        {\n",
    "          \"id\": 138814,\n",
    "          \"name\": \"E. Galbraith\",\n",
    "          \"age\": 20,\n",
    "          \"number\": null,\n",
    "          \"position\": \"Midfielder\",\n",
    "          \"photo\": \"https://media.api-sports.io/football/players/138814.png\"\n",
    "        },\n",
    "        {\n",
    "          \"id\": 274,\n",
    "          \"name\": \"E. Cavani\",\n",
    "          \"age\": 34,\n",
    "          \"number\": 7,\n",
    "          \"position\": \"Attacker\",\n",
    "          \"photo\": \"https://media.api-sports.io/football/players/274.png\"\n",
    "        },\n",
    "        {\n",
    "          \"id\": 153430,\n",
    "          \"name\": \"A. Elanga\",\n",
    "          \"age\": 19,\n",
    "          \"number\": 56,\n",
    "          \"position\": \"Attacker\",\n",
    "          \"photo\": \"https://media.api-sports.io/football/players/153430.png\"\n",
    "        },\n",
    "        {\n",
    "          \"id\": 897,\n",
    "          \"name\": \"M. Greenwood\",\n",
    "          \"age\": 20,\n",
    "          \"number\": 11,\n",
    "          \"position\": \"Attacker\",\n",
    "          \"photo\": \"https://media.api-sports.io/football/players/897.png\"\n",
    "        },\n",
    "        {\n",
    "          \"id\": 19329,\n",
    "          \"name\": \"D. James\",\n",
    "          \"age\": 24,\n",
    "          \"number\": 21,\n",
    "          \"position\": \"Attacker\",\n",
    "          \"photo\": \"https://media.api-sports.io/football/players/19329.png\"\n",
    "        },\n",
    "        {\n",
    "          \"id\": 908,\n",
    "          \"name\": \"A. Martial\",\n",
    "          \"age\": 26,\n",
    "          \"number\": 9,\n",
    "          \"position\": \"Attacker\",\n",
    "          \"photo\": \"https://media.api-sports.io/football/players/908.png\"\n",
    "        },\n",
    "        {\n",
    "          \"id\": 909,\n",
    "          \"name\": \"M. Rashford\",\n",
    "          \"age\": 24,\n",
    "          \"number\": 10,\n",
    "          \"position\": \"Attacker\",\n",
    "          \"photo\": \"https://media.api-sports.io/football/players/909.png\"\n",
    "        },\n",
    "        {\n",
    "          \"id\": 157997,\n",
    "          \"name\": \"A. Diallo\",\n",
    "          \"age\": 19,\n",
    "          \"number\": 19,\n",
    "          \"position\": \"Attacker\",\n",
    "          \"photo\": \"https://media.api-sports.io/football/players/157997.png\"\n",
    "        }\n",
    "      ]\n",
    "    }\n",
    "  ]\n",
    "}\"\"\""
   ]
  },
  {
   "cell_type": "markdown",
   "metadata": {},
   "source": [
    "### Transform Squads"
   ]
  },
  {
   "cell_type": "code",
   "execution_count": null,
   "metadata": {},
   "outputs": [],
   "source": []
  },
  {
   "cell_type": "code",
   "execution_count": 235,
   "metadata": {},
   "outputs": [],
   "source": [
    "json_response=json.loads(json_string)\n",
    "#json_response=json_response['response']"
   ]
  },
  {
   "cell_type": "code",
   "execution_count": 246,
   "metadata": {},
   "outputs": [
    {
     "name": "stdout",
     "output_type": "stream",
     "text": [
      "[{'team': {'id': 33, 'name': 'Manchester United', 'code': 'MUN', 'country': 'England', 'founded': 1878, 'national': False, 'logo': 'https://media.api-sports.io/football/teams/33.png'}, 'venue': {'id': 556, 'name': 'Old Trafford', 'address': 'Sir Matt Busby Way', 'city': 'Manchester', 'capacity': 76212, 'surface': 'grass', 'image': 'https://media.api-sports.io/football/venues/556.png'}}]\n"
     ]
    }
   ],
   "source": [
    "print(json_response.get('response'))\n"
   ]
  },
  {
   "cell_type": "code",
   "execution_count": null,
   "metadata": {},
   "outputs": [
    {
     "name": "stdout",
     "output_type": "stream",
     "text": [
      "[]\n"
     ]
    }
   ],
   "source": [
    "squad = []\n",
    "\n",
    "for s in json_response.get('response', []):\n",
    "    team = s.get('team')\n",
    "    players = s.get('players')\n",
    "\n",
    "    if team and players:\n",
    "        team_id = team.get('id')\n",
    "        for player in players:\n",
    "            squad.append({\n",
    "                'team_id': team_id,\n",
    "                'player_id': player.get('id'),\n",
    "                'name': player.get('name'),\n",
    "                'age': player.get('age'),\n",
    "                'number': player.get('number'),\n",
    "                'photo': player.get('photo'),\n",
    "                'position': player.get('position')\n",
    "            })\n",
    "\n",
    "print(squad)"
   ]
  },
  {
   "cell_type": "code",
   "execution_count": 251,
   "metadata": {},
   "outputs": [
    {
     "data": {
      "text/plain": [
       "[]"
      ]
     },
     "execution_count": 251,
     "metadata": {},
     "output_type": "execute_result"
    }
   ],
   "source": [
    "squad"
   ]
  }
 ],
 "metadata": {
  "kernelspec": {
   "display_name": "Python 3",
   "language": "python",
   "name": "python3"
  },
  "language_info": {
   "codemirror_mode": {
    "name": "ipython",
    "version": 3
   },
   "file_extension": ".py",
   "mimetype": "text/x-python",
   "name": "python",
   "nbconvert_exporter": "python",
   "pygments_lexer": "ipython3",
   "version": "3.12.10"
  }
 },
 "nbformat": 4,
 "nbformat_minor": 2
}
